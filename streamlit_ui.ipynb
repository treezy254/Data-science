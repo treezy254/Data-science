{
  "nbformat": 4,
  "nbformat_minor": 0,
  "metadata": {
    "colab": {
      "provenance": [],
      "gpuType": "T4",
      "authorship_tag": "ABX9TyNkh+7e9g92lOdD6hBte2Jg",
      "include_colab_link": true
    },
    "kernelspec": {
      "name": "python3",
      "display_name": "Python 3"
    },
    "language_info": {
      "name": "python"
    },
    "accelerator": "GPU"
  },
  "cells": [
    {
      "cell_type": "markdown",
      "metadata": {
        "id": "view-in-github",
        "colab_type": "text"
      },
      "source": [
        "<a href=\"https://colab.research.google.com/github/treezy254/Data-science/blob/main/streamlit_ui.ipynb\" target=\"_parent\"><img src=\"https://colab.research.google.com/assets/colab-badge.svg\" alt=\"Open In Colab\"/></a>"
      ]
    },
    {
      "cell_type": "code",
      "execution_count": 1,
      "metadata": {
        "colab": {
          "base_uri": "https://localhost:8080/"
        },
        "id": "lXx5zszg57Ve",
        "outputId": "9c6b0e9d-b63c-40c0-8d3a-c61051a15917"
      },
      "outputs": [
        {
          "output_type": "stream",
          "name": "stdout",
          "text": [
            "Cloning Ollama-Companion from git...\n"
          ]
        }
      ],
      "source": [
        "\n",
        "# Clone the repository\n",
        "!git clone --branch autogen https://github.com/treezy254/Ollama-Companion.git 2> /dev/null 1>&2\n",
        "print(\"Cloning Ollama-Companion from git...\")\n",
        "\n"
      ]
    },
    {
      "cell_type": "code",
      "source": [
        "# Install virtualenv\n",
        "!sudo apt install virtualenv 2> /dev/null 1>&2\n",
        "print(\"Installing some dependencies, please hold on...\")\n"
      ],
      "metadata": {
        "colab": {
          "base_uri": "https://localhost:8080/"
        },
        "id": "c02Ar-Yq6KPh",
        "outputId": "e66ff689-dc5a-47cf-e77f-5c26379c29ed"
      },
      "execution_count": 2,
      "outputs": [
        {
          "output_type": "stream",
          "name": "stdout",
          "text": [
            "Installing some dependencies, please hold on...\n"
          ]
        }
      ]
    },
    {
      "cell_type": "code",
      "source": [
        "\n",
        "# Convert Windows line endings to Unix line endings in the install.sh script\n",
        "!sed -i 's/\\r//' /content/Ollama-Companion/install.sh 2> /dev/null 1>&2\n",
        "print(\"Converting line endings in install script...\")\n"
      ],
      "metadata": {
        "colab": {
          "base_uri": "https://localhost:8080/"
        },
        "id": "m6HGNZxf6LhF",
        "outputId": "b0f30dff-30f0-4cd4-e773-2910747b7382"
      },
      "execution_count": 3,
      "outputs": [
        {
          "output_type": "stream",
          "name": "stdout",
          "text": [
            "Converting line endings in install script...\n"
          ]
        }
      ]
    },
    {
      "cell_type": "code",
      "source": [
        "\n",
        "# Make the script executable and run it\n",
        "!chmod +x /content/Ollama-Companion/install.sh 2> /dev/null 1>&2\n",
        "print(\"Running the installation script and compiling Llama.cpp...\")\n",
        "!/content/Ollama-Companion/install.sh 2> /dev/null 1>&2\n"
      ],
      "metadata": {
        "colab": {
          "base_uri": "https://localhost:8080/"
        },
        "id": "ahPxt2dX6UgM",
        "outputId": "1f84c2b9-1ecb-470f-e3b9-b3b1a4fd6eac"
      },
      "execution_count": 4,
      "outputs": [
        {
          "output_type": "stream",
          "name": "stdout",
          "text": [
            "Running the installation script and compiling Llama.cpp...\n"
          ]
        }
      ]
    },
    {
      "cell_type": "code",
      "source": [
        "\n",
        "# Purge pip cache and clean up temporary files\n",
        "!pip cache purge 2> /dev/null 1>&2\n",
        "!find /tmp -type f -atime +1 -delete 2> /dev/null 1>&2\n",
        "!sudo apt-get clean 2> /dev/null 1>&2\n",
        "!sudo apt-get autoremove 2> /dev/null 1>&2\n",
        "print(\"Cleaning up and finalizing setup...\")\n",
        "print(\"Started all apps run the cell below if you want to restart\")\n"
      ],
      "metadata": {
        "colab": {
          "base_uri": "https://localhost:8080/"
        },
        "id": "r3XiDckm6WFR",
        "outputId": "ff3bb7ad-5d92-4d4b-e943-418e820618cf"
      },
      "execution_count": 5,
      "outputs": [
        {
          "output_type": "stream",
          "name": "stdout",
          "text": [
            "Cleaning up and finalizing setup...\n",
            "Started all apps run the cell below if you want to restart\n"
          ]
        }
      ]
    },
    {
      "cell_type": "code",
      "source": [
        "# Run the application\n",
        "!python3 /content/Ollama-Companion/run_app.py\n",
        "print(\"Started all apps run the cell below if you want to restart\")"
      ],
      "metadata": {
        "colab": {
          "base_uri": "https://localhost:8080/"
        },
        "id": "qpfiNW6m6XR1",
        "outputId": "2d96c911-5068-44be-a786-a26b12d8c840"
      },
      "execution_count": null,
      "outputs": [
        {
          "output_type": "stream",
          "name": "stdout",
          "text": [
            "Starting Cloudflare Tunnel...\n",
            "Starting Streamlit App...\n",
            "Starting Ollama...\n",
            "\n",
            "Collecting usage statistics. To deactivate, set browser.gatherUsageStats to False.\n",
            "\u001b[0m\n",
            "\u001b[0m\n",
            "\u001b[34m\u001b[1m  You can now view your Streamlit app in your browser.\u001b[0m\n",
            "\u001b[0m\n",
            "\u001b[34m  Network URL: \u001b[0m\u001b[1mhttp://172.28.0.12:8501\u001b[0m\n",
            "\u001b[34m  External URL: \u001b[0m\u001b[1mhttp://34.87.148.241:8501\u001b[0m\n",
            "\u001b[0m\n",
            "Tunnel URL: https://pays-bailey-andrew-elsewhere.trycloudflare.com\n"
          ]
        }
      ]
    },
    {
      "cell_type": "code",
      "source": [],
      "metadata": {
        "id": "4XGuc2pF6Xnq"
      },
      "execution_count": null,
      "outputs": []
    }
  ]
}