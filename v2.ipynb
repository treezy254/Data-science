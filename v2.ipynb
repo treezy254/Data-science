{
  "nbformat": 4,
  "nbformat_minor": 0,
  "metadata": {
    "colab": {
      "provenance": [],
      "authorship_tag": "ABX9TyPnsmBbFdCEuIw875Op5L3S",
      "include_colab_link": true
    },
    "kernelspec": {
      "name": "python3",
      "display_name": "Python 3"
    },
    "language_info": {
      "name": "python"
    }
  },
  "cells": [
    {
      "cell_type": "markdown",
      "metadata": {
        "id": "view-in-github",
        "colab_type": "text"
      },
      "source": [
        "<a href=\"https://colab.research.google.com/github/treezy254/Data-science/blob/main/v2.ipynb\" target=\"_parent\"><img src=\"https://colab.research.google.com/assets/colab-badge.svg\" alt=\"Open In Colab\"/></a>"
      ]
    },
    {
      "cell_type": "code",
      "execution_count": null,
      "metadata": {
        "id": "2-fLviQihWoW"
      },
      "outputs": [],
      "source": [
        "!pip install promptflow promptflow-tools"
      ]
    },
    {
      "cell_type": "code",
      "source": [
        "\"\"\"\n",
        "OAI - generate / embedding\n",
        "Jinja2 prompt\n",
        "Algorithms :\n",
        "  Inputs\n",
        "  Functions\n",
        "  Outputs\n",
        "  Iterate\n",
        "\n",
        "nodes:\n",
        "  Requirement Gathering Node\n",
        "    Functional requirements\n",
        "    Non-functional requirements\n",
        "    /** User stories coming soon **/\n",
        "\n",
        "  Design Node\n",
        "    Architecture Design\n",
        "    /** UI/UX Design coming soon **/\n",
        "    Database schema design\n",
        "\n",
        "  Code Generation Node\n",
        "    Function Method Implementation\n",
        "    Class/Module Implementation\n",
        "    Algorithm Logic Implementation\n",
        "\n",
        "  Application Development\n",
        "    Frontend Development\n",
        "    Backend Development\n",
        "    Database Intergration\n",
        "\n",
        "  Code Review\n",
        "    Code Quality\n",
        "    Bug Identification\n",
        "    Refactoring\n",
        "\n",
        "  Testing\n",
        "    Unit testing\n",
        "    Intergration Testing\n",
        "    Regression testing\n",
        "\n",
        "  Documentation Node:\n",
        "    User Manual\n",
        "    Api Documentation\n",
        "    Technical specification\n",
        "\n",
        "  Deployment\n",
        "    Configuration\n",
        "    Server setup\n",
        "    User Acceptance Testing\n",
        "\n",
        "\n",
        "\n",
        "\"\"\""
      ],
      "metadata": {
        "id": "KmKeaSyBh8F6"
      },
      "execution_count": null,
      "outputs": []
    },
    {
      "cell_type": "markdown",
      "source": [
        "##OAI CONFIG"
      ],
      "metadata": {
        "id": "CYbWQZ56oSnZ"
      }
    },
    {
      "cell_type": "code",
      "source": [
        "%%writefile .env\n",
        "OPENAI_API_TYPE=azure\n",
        "OPENAI_API_BASE=<your_AOAI_endpoint>\n",
        "OPENAI_API_KEY=<your_AOAI_key>\n",
        "OPENAI_API_VERSION=2023-05-15\n",
        "EMBEDDING_MODEL_DEPLOYMENT_NAME=text-embedding-ada-002\n",
        "CHAT_MODEL_DEPLOYMENT_NAME=gpt-4\n",
        "PROMPT_TOKEN_LIMIT=2000\n",
        "MAX_COMPLETION_TOKENS=1024\n",
        "CHUNK_SIZE=256\n",
        "CHUNK_OVERLAP=16\n",
        "VERBOSE=True\n"
      ],
      "metadata": {
        "colab": {
          "base_uri": "https://localhost:8080/"
        },
        "id": "xoDfij7uoPE6",
        "outputId": "c3222768-315a-4a68-e5e8-ae99c95153a7"
      },
      "execution_count": null,
      "outputs": [
        {
          "output_type": "stream",
          "name": "stdout",
          "text": [
            "Writing .env\n"
          ]
        }
      ]
    },
    {
      "cell_type": "code",
      "source": [
        "from dotenv import load_dotenv\n",
        "\n",
        "# Load environment variables from .env file\n",
        "load_dotenv()\n"
      ],
      "metadata": {
        "colab": {
          "base_uri": "https://localhost:8080/"
        },
        "id": "SFQUudH3owGi",
        "outputId": "4c967cf1-8749-4b3a-ba8e-f84ef5e98a00"
      },
      "execution_count": null,
      "outputs": [
        {
          "output_type": "execute_result",
          "data": {
            "text/plain": [
              "True"
            ]
          },
          "metadata": {},
          "execution_count": 6
        }
      ]
    },
    {
      "cell_type": "code",
      "source": [
        "import os\n",
        "import sys\n",
        "from typing import Union\n",
        "from promptflow.tools.common import render_jinja_template\n",
        "from promptflow import tool\n",
        "import sys\n",
        "sys.path.append('.')\n",
        "from oai import OAIChat\n"
      ],
      "metadata": {
        "id": "V_4EU1b9o02b"
      },
      "execution_count": 12,
      "outputs": []
    },
    {
      "cell_type": "markdown",
      "source": [
        "####Content Generator"
      ],
      "metadata": {
        "id": "hx1H6KbPq0G0"
      }
    },
    {
      "cell_type": "code",
      "source": [
        "def generate(prompt: str):\n",
        "    \"\"\"\n",
        "    Generates algorithm based on the provided prompt.\n",
        "    \"\"\"\n",
        "    try:\n",
        "        max_completion_tokens = int(os.environ.get(\"MAX_COMPLETION_TOKENS\"))\n",
        "    except (ValueError, TypeError):\n",
        "        print(\"Error: MAX_COMPLETION_TOKENS environment variable is not set or is invalid.\")\n",
        "        return None\n",
        "\n",
        "    try:\n",
        "        chat = OAIChat()\n",
        "        stream = chat.generate(\n",
        "            messages=[{\"role\": \"user\", \"content\": prompt}],\n",
        "            max_tokens=max_completion_tokens,\n",
        "        )\n",
        "        return stream\n",
        "    except Exception as e:\n",
        "        print(f\"An error occurred during generation: {e}\")\n",
        "        return None"
      ],
      "metadata": {
        "id": "xKyu87ZHo2cy"
      },
      "execution_count": 13,
      "outputs": []
    },
    {
      "cell_type": "markdown",
      "source": [
        "## Requirements Gathering"
      ],
      "metadata": {
        "id": "gtetT9oGq-Ib"
      }
    },
    {
      "cell_type": "markdown",
      "source": [
        "#### Functional Requirements"
      ],
      "metadata": {
        "id": "-_kHRXn5rBq9"
      }
    },
    {
      "cell_type": "code",
      "source": [
        "def add_task(task_dict):\n",
        "    # Take user input for task and description\n",
        "    task = input(\"Please enter your task: \")\n",
        "    task_description = input(\"Please input your task description: \")\n",
        "\n",
        "    # Create a dictionary with keys \"task\" and \"task_description\"\n",
        "    task_dict[\"task\"] = task\n",
        "    task_dict[\"task_description\"] = task_description\n",
        "\n",
        "    # Return the updated dictionary\n",
        "    return task_dict\n",
        "\n",
        "# # Define an empty dictionary to store tasks and descriptions\n",
        "# task_details = {\"fresh\": \"details\"}\n",
        "\n",
        "# # Call the function to add tasks\n",
        "# add_task(task_details)\n",
        "\n",
        "# # Print the updated dictionary\n",
        "# print(task_details)\n",
        "\n",
        "\n"
      ],
      "metadata": {
        "id": "UzJqQmTAqohe"
      },
      "execution_count": 23,
      "outputs": []
    },
    {
      "cell_type": "markdown",
      "source": [
        "#### Parse the prompt"
      ],
      "metadata": {
        "id": "ph9PPrdptfZW"
      }
    },
    {
      "cell_type": "code",
      "source": [
        "def functions_prompt(product_description):\n",
        "    \"\"\"\n",
        "    Generates a prompt for a specific function using a Jinja2 template.\n",
        "    \"\"\"\n",
        "    from promptflow.tools.common import render_jinja_template\n",
        "\n",
        "    with open('functionalreqs_format.jinja2') as file:\n",
        "        return render_jinja_template(prompt=file.read(), product_description=product_description)"
      ],
      "metadata": {
        "id": "EBRDHd_Grpq1"
      },
      "execution_count": 25,
      "outputs": []
    },
    {
      "cell_type": "markdown",
      "source": [
        "#### Generate functional requirements"
      ],
      "metadata": {
        "id": "VkuNpHzltiJS"
      }
    },
    {
      "cell_type": "code",
      "source": [
        "def functional_requirements(prompt):\n",
        "  try:\n",
        "    requirements = generate(prompt)\n",
        "    return requirements\n",
        "\n",
        "  except Exception as e:\n",
        "    print(f\"An error occurred: {e}\")\n",
        "    return None\n"
      ],
      "metadata": {
        "id": "vhdbpayCtX1L"
      },
      "execution_count": 26,
      "outputs": []
    },
    {
      "cell_type": "markdown",
      "source": [
        "#### Test"
      ],
      "metadata": {
        "id": "Jji22SdnueIX"
      }
    },
    {
      "cell_type": "code",
      "source": [
        "def functional_reqs_test():\n",
        "  # add task\n",
        "  task_details = {}\n",
        "  task_details = add_task(task_details)\n",
        "  if \"task\" in task_details:\n",
        "    task_description = task_details[\"task_description\"]\n",
        "    print(\"Description for task 'task':\", task_description)\n",
        "  else:\n",
        "      print(\"Task not found in task_details.\")\n",
        "\n",
        "\n",
        "  # parse prompt\n",
        "  prompt = functions_prompt(task_description)\n",
        "  print(prompt)\n",
        "  requirements = functional_requirements(prompt)\n",
        "\n",
        "  return requirements\n",
        "\n"
      ],
      "metadata": {
        "id": "B3M7izxRucpW"
      },
      "execution_count": 29,
      "outputs": []
    },
    {
      "cell_type": "code",
      "source": [
        "requirements = functional_reqs_test()\n",
        "print(requirements)"
      ],
      "metadata": {
        "id": "Rez9_ct3yYPg"
      },
      "execution_count": 34,
      "outputs": []
    },
    {
      "cell_type": "markdown",
      "source": [
        "### Non functional requirements"
      ],
      "metadata": {
        "id": "PmJ2MoZNwYb_"
      }
    },
    {
      "cell_type": "code",
      "source": [
        "non_functional_requirements = {\n",
        "    \"Performance\": {\n",
        "        \"Details\": [\n",
        "            \"The system should respond to user requests within 2 seconds.\",\n",
        "            \"The system should support a minimum of 1000 concurrent users without degradation in performance.\"\n",
        "        ]\n",
        "    },\n",
        "    \"Scalability\": {\n",
        "        \"Details\": [\n",
        "            \"The system should be able to handle a 50% increase in user traffic during peak hours.\",\n",
        "            \"The system should scale horizontally to accommodate future growth without significant changes to the architecture.\"\n",
        "        ]\n",
        "    },\n",
        "    \"Reliability\": {\n",
        "        \"Details\": [\n",
        "            \"The system should have an uptime of at least 99.9%.\",\n",
        "            \"The system should be resilient to hardware failures and recover gracefully without data loss.\"\n",
        "        ]\n",
        "    },\n",
        "    \"Availability\": {\n",
        "        \"Details\": [\n",
        "            \"The system should be available 24/7 except during scheduled maintenance windows.\",\n",
        "            \"The system should have a failover mechanism in place to ensure uninterrupted service in case of server failures.\"\n",
        "        ]\n",
        "    },\n",
        "    \"Security\": {\n",
        "        \"Details\": [\n",
        "            \"User authentication should use strong encryption and secure protocols (e.g., HTTPS).\",\n",
        "            \"The system should enforce role-based access control (RBAC) to restrict access to sensitive data.\"\n",
        "        ]\n",
        "    },\n",
        "    \"Usability\": {\n",
        "        \"Details\": [\n",
        "            \"The user interface should be intuitive and easy to navigate, requiring minimal training for end users.\",\n",
        "            \"The system should comply with accessibility standards (e.g., WCAG) to ensure usability for users with disabilities.\"\n",
        "        ]\n",
        "    },\n",
        "    \"Maintainability\": {\n",
        "        \"Details\": [\n",
        "            \"The system should be modular and well-documented to facilitate future enhancements and modifications.\",\n",
        "            \"Code changes should follow coding standards and be peer-reviewed to maintain code quality.\"\n",
        "        ]\n",
        "    },\n",
        "    \"Compatibility\": {\n",
        "        \"Details\": [\n",
        "            \"The system should be compatible with multiple web browsers (e.g., Chrome, Firefox, Safari) and devices (e.g., desktop, mobile).\",\n",
        "            \"The system should integrate seamlessly with third-party services and APIs.\"\n",
        "        ]\n",
        "    },\n",
        "    \"Performance Efficiency\": {\n",
        "        \"Details\": [\n",
        "            \"The system should optimize resource utilization to minimize costs (e.g., CPU usage, memory usage).\",\n",
        "            \"The system should use caching mechanisms to improve response times and reduce server load.\"\n",
        "        ]\n",
        "    },\n",
        "    \"Regulatory Compliance\": {\n",
        "        \"Details\": [\n",
        "            \"The system should comply with relevant industry regulations (e.g., GDPR, HIPAA) regarding data privacy and security.\",\n",
        "            \"The system should adhere to legal requirements for data retention and archival.\"\n",
        "        ]\n",
        "    },\n",
        "    \"Interoperability\": {\n",
        "        \"Details\": [\n",
        "            \"The system should be able to integrate seamlessly with external systems and APIs.\",\n",
        "            \"The system should support industry-standard data exchange formats (e.g., JSON, XML) for interoperability.\"\n",
        "        ]\n",
        "    },\n",
        "    \"Portability\": {\n",
        "        \"Details\": [\n",
        "            \"The system should be deployable across different operating systems (e.g., Windows, Linux, macOS).\",\n",
        "            \"The system should support deployment in various cloud environments (e.g., AWS, Azure, Google Cloud).\"\n",
        "        ]\n",
        "    },\n",
        "    \"Data Consistency\": {\n",
        "        \"Details\": [\n",
        "            \"The system should maintain data consistency across distributed components and databases.\",\n",
        "            \"Concurrent updates to the same data should be handled appropriately to prevent data corruption.\"\n",
        "        ]\n",
        "    },\n",
        "    \"Auditability\": {\n",
        "        \"Details\": [\n",
        "            \"The system should log all user activities and system events for auditing purposes.\",\n",
        "            \"Audit logs should be tamper-proof and accessible only to authorized personnel.\"\n",
        "        ]\n",
        "    },\n",
        "    \"Internationalization (I18n)\": {\n",
        "        \"Details\": [\n",
        "            \"The system should support multiple languages and locales to accommodate international users.\",\n",
        "            \"User interface elements should be designed to handle different character sets and text directions (e.g., left-to-right, right-to-left).\"\n",
        "        ]\n",
        "    },\n",
        "    \"Resilience\": {\n",
        "        \"Details\": [\n",
        "            \"The system should be resilient to network failures and intermittent connectivity issues.\",\n",
        "            \"The system should have mechanisms in place to recover from temporary failures without data loss or corruption.\"\n",
        "        ]\n",
        "    },\n",
        "    \"Capacity Planning\": {\n",
        "        \"Details\": [\n",
        "            \"The system should be designed to handle peak loads and seasonal spikes in user traffic.\",\n",
        "            \"Capacity planning should consider future growth projections and scalability requirements.\"\n",
        "        ]\n",
        "    },\n",
        "    \"Documentation\": {\n",
        "        \"Details\": [\n",
        "            \"The system should have comprehensive documentation covering installation, configuration, and usage instructions.\",\n",
        "            \"API documentation should be provided to facilitate integration with external systems and development by third-party developers.\"\n",
        "        ]\n",
        "    },\n",
        "    \"Compliance with Standards\": {\n",
        "        \"Details\": [\n",
        "            \"The system should adhere to industry standards and best practices (e.g., ISO/IEC 27001 for information security).\",\n",
        "            \"Development processes should follow established methodologies (e.g., Agile, Waterfall) to ensure consistency and quality.\"\n",
        "        ]\n",
        "    },\n",
        "    \"Error Handling\": {\n",
        "        \"Details\": [\n",
        "            \"The system should provide meaningful error messages to users in case of failures or exceptions.\",\n",
        "            \"Error logs should be generated and monitored to identify and address recurring issues proactively.\"\n",
        "        ]\n",
        "    },\n",
        "    \"Backup and Recovery\": {\n",
        "        \"Details\": [\n",
        "            \"The system should support regular backups of data to prevent data loss in case of system failures.\",\n",
        "            \"Backup procedures should be automated and include off-site storage for disaster recovery purposes.\"\n",
        "        ]\n",
        "    },\n",
        "    \"Logging and Monitoring\": {\n",
        "        \"Details\": [\n",
        "            \"The system should log relevant events and activities for monitoring and troubleshooting purposes.\",\n",
        "            \"Monitoring tools should be integrated to track system performance metrics (e.g., CPU usage, memory usage) in real-time.\"\n",
        "        ]\n",
        "    },\n",
        "    \"Performance Tuning\": {\n",
        "        \"Details\": [\n",
        "            \"The system should be optimized for efficient resource utilization to ensure optimal performance.\",\n",
        "            \"Performance tuning should be performed periodically to identify and address bottlenecks.\"\n",
        "        ]\n",
        "    },\n",
        "    \"Data Privacy\": {\n",
        "        \"Details\": [\n",
        "            \"The system should ensure the privacy and confidentiality of user data by encrypting sensitive information.\",\n",
        "            \"Access to personal data should be restricted to authorized personnel only.\"\n",
        "        ]\n",
        "    },\n",
        "    \"Regulatory Compliance\": {\n",
        "        \"Details\": [\n",
        "            \"The system should comply with industry-specific regulations and standards (e.g., PCI DSS for payment processing).\",\n",
        "            \"Compliance certifications should be obtained and maintained as required by regulatory authorities.\"\n",
        "        ]\n",
        "    },\n",
        "    \"Environmental Considerations\": {\n",
        "        \"Details\": [\n",
        "            \"The system should minimize its environmental impact by optimizing energy consumption and resource usage.\",\n",
        "            \"Green computing practices should be adopted to reduce carbon footprint and promote sustainability.\"\n",
        "        ]\n",
        "    },\n",
        "    \"User Training and Support\": {\n",
        "        \"Details\": [\n",
        "            \"The system should provide user training materials and resources to facilitate user adoption.\",\n",
        "            \"Helpdesk support should be available to assist users with technical issues and inquiries.\"\n",
        "        ]\n",
        "    },\n",
        "    \"Disaster Recovery\": {\n",
        "        \"Details\": [\n",
        "            \"The system should have a disaster recovery plan in place to recover from catastrophic events (e.g., natural disasters, cyber attacks).\",\n",
        "            \"Recovery procedures should include data restoration and system reconfiguration to restore functionality.\"\n",
        "        ]\n",
        "    },\n",
        "    \"Accessibility\": {\n",
        "        \"Details\": [\n",
        "            \"The system should comply with accessibility standards (e.g., WCAG) to ensure usability for users with disabilities.\",\n",
        "            \"Support for assistive technologies (e.g., screen readers, keyboard navigation) should be provided.\"\n",
        "        ]\n",
        "    },\n",
        "    \"User Experience (UX) Metrics\": {\n",
        "        \"Details\": [\n",
        "            \"The system should track UX metrics such as user satisfaction, task completion rate, and error rate to measure usability.\",\n",
        "            \"Feedback mechanisms should be implemented to gather user feedback for continuous improvement.\"\n",
        "        ]\n",
        "    }\n",
        "}\n"
      ],
      "metadata": {
        "id": "gDKu2cPQzkxm"
      },
      "execution_count": 31,
      "outputs": []
    },
    {
      "cell_type": "code",
      "source": [
        "def get_requirement_names(requirements_dict):\n",
        "    requirement_names = []\n",
        "    for requirement_name in requirements_dict:\n",
        "        requirement_names.append(requirement_name)\n",
        "    return requirement_names\n",
        "\n",
        "# Usage example:\n",
        "requirement_names_list = get_requirement_names(non_functional_requirements)\n",
        "print(requirement_names_list)\n"
      ],
      "metadata": {
        "colab": {
          "base_uri": "https://localhost:8080/"
        },
        "id": "2f4TL3bl2CKF",
        "outputId": "970620e4-2910-4e5c-f924-0c91b73f67dd"
      },
      "execution_count": 32,
      "outputs": [
        {
          "output_type": "stream",
          "name": "stdout",
          "text": [
            "['Performance', 'Scalability', 'Reliability', 'Availability', 'Security', 'Usability', 'Maintainability', 'Compatibility', 'Performance Efficiency', 'Regulatory Compliance', 'Interoperability', 'Portability', 'Data Consistency', 'Auditability', 'Internationalization (I18n)', 'Resilience', 'Capacity Planning', 'Documentation', 'Compliance with Standards', 'Error Handling', 'Backup and Recovery', 'Logging and Monitoring', 'Performance Tuning', 'Data Privacy', 'Environmental Considerations', 'User Training and Support', 'Disaster Recovery', 'Accessibility', 'User Experience (UX) Metrics']\n"
          ]
        }
      ]
    },
    {
      "cell_type": "markdown",
      "source": [
        "## Design\n"
      ],
      "metadata": {
        "id": "2mxxuGtj2eN1"
      }
    },
    {
      "cell_type": "markdown",
      "source": [
        "#### Functions"
      ],
      "metadata": {
        "id": "9PNezXNt4JEp"
      }
    },
    {
      "cell_type": "code",
      "source": [
        "# given the functional requirements keys : parse functional reqs\n",
        "\n",
        "# generate prompt\n",
        "# generate content\n",
        "\n",
        "sumn = {\n",
        "  \"User_Registration_and_Authentication\": {\n",
        "    \"Details\": [\n",
        "      \"Users should be able to register for an account with their email and password.\",\n",
        "      \"Upon registration, users should receive a confirmation email for account verification.\",\n",
        "      \"Registered users should be able to log in securely using their credentials.\"\n",
        "    ]\n",
        "  },\n",
        "  \"Product_Management\": {\n",
        "    \"Details\": [\n",
        "      \"Admin users should be able to add new products to the catalog with details such as name, description, price, and stock quantity.\",\n",
        "      \"Admin users should be able to edit and delete existing products from the catalog.\"\n",
        "    ]\n",
        "  },\n",
        "  \"requirement_n\": {\n",
        "    \"Details\": [\n",
        "      \"...\",\n",
        "      \"...\"\n",
        "    ]\n",
        "  }\n",
        "}\n",
        "\n",
        "for key, value in enumerate(sumn):\n",
        "  print(sumn(key))"
      ],
      "metadata": {
        "colab": {
          "base_uri": "https://localhost:8080/",
          "height": 176
        },
        "id": "CdvpeNgX2Zbt",
        "outputId": "e85ab1ae-85cc-41b0-d34d-ae4b8dc9f70f"
      },
      "execution_count": 43,
      "outputs": [
        {
          "output_type": "error",
          "ename": "TypeError",
          "evalue": "'dict' object is not callable",
          "traceback": [
            "\u001b[0;31m---------------------------------------------------------------------------\u001b[0m",
            "\u001b[0;31mTypeError\u001b[0m                                 Traceback (most recent call last)",
            "\u001b[0;32m<ipython-input-43-383e38644506>\u001b[0m in \u001b[0;36m<cell line: 28>\u001b[0;34m()\u001b[0m\n\u001b[1;32m     27\u001b[0m \u001b[0;34m\u001b[0m\u001b[0m\n\u001b[1;32m     28\u001b[0m \u001b[0;32mfor\u001b[0m \u001b[0mkey\u001b[0m\u001b[0;34m,\u001b[0m \u001b[0mvalue\u001b[0m \u001b[0;32min\u001b[0m \u001b[0menumerate\u001b[0m\u001b[0;34m(\u001b[0m\u001b[0msumn\u001b[0m\u001b[0;34m)\u001b[0m\u001b[0;34m:\u001b[0m\u001b[0;34m\u001b[0m\u001b[0;34m\u001b[0m\u001b[0m\n\u001b[0;32m---> 29\u001b[0;31m   \u001b[0mprint\u001b[0m\u001b[0;34m(\u001b[0m\u001b[0msumn\u001b[0m\u001b[0;34m(\u001b[0m\u001b[0mkey\u001b[0m\u001b[0;34m)\u001b[0m\u001b[0;34m)\u001b[0m\u001b[0;34m\u001b[0m\u001b[0;34m\u001b[0m\u001b[0m\n\u001b[0m",
            "\u001b[0;31mTypeError\u001b[0m: 'dict' object is not callable"
          ]
        }
      ]
    },
    {
      "cell_type": "code",
      "source": [],
      "metadata": {
        "id": "QlLzm4WJLbxH"
      },
      "execution_count": null,
      "outputs": []
    }
  ]
}