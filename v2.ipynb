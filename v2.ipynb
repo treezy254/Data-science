{
  "cells": [
    {
      "cell_type": "markdown",
      "metadata": {
        "id": "view-in-github",
        "colab_type": "text"
      },
      "source": [
        "<a href=\"https://colab.research.google.com/github/treezy254/Data-science/blob/main/v2.ipynb\" target=\"_parent\"><img src=\"https://colab.research.google.com/assets/colab-badge.svg\" alt=\"Open In Colab\"/></a>"
      ]
    },
    {
      "cell_type": "code",
      "execution_count": null,
      "metadata": {
        "id": "2-fLviQihWoW"
      },
      "outputs": [],
      "source": [
        "!pip install promptflow promptflow-tools\n",
        "!pip install -q -U google-generativeai"
      ]
    },
    {
      "cell_type": "code",
      "execution_count": 85,
      "metadata": {
        "id": "lydChHQqDLgt"
      },
      "outputs": [],
      "source": [
        "import pathlib\n",
        "import textwrap\n",
        "\n",
        "import google.generativeai as genai\n",
        "\n",
        "from IPython.display import display\n",
        "from IPython.display import Markdown\n",
        "\n",
        "\n",
        "def to_markdown(text):\n",
        "  text = text.replace('•', '  *')\n",
        "  return Markdown(textwrap.indent(text, '> ', predicate=lambda _: True))"
      ]
    },
    {
      "cell_type": "code",
      "execution_count": 86,
      "metadata": {
        "id": "otJ36E5uDPCf"
      },
      "outputs": [],
      "source": [
        "# Used to securely store your API key\n",
        "from google.colab import userdata"
      ]
    },
    {
      "cell_type": "code",
      "execution_count": null,
      "metadata": {
        "id": "fyMjWPO8DorW"
      },
      "outputs": [],
      "source": [
        "# Or use `os.getenv('GOOGLE_API_KEY')` to fetch an environment variable.\n",
        "GOOGLE_API_KEY=userdata.get('GOOGLE_API_KEY')\n",
        "\n",
        "genai.configure(api_key=GOOGLE_API_KEY)"
      ]
    },
    {
      "cell_type": "code",
      "execution_count": null,
      "metadata": {
        "id": "dz6wwEkADwcW"
      },
      "outputs": [],
      "source": [
        "for m in genai.list_models():\n",
        "  if 'generateContent' in m.supported_generation_methods:\n",
        "    print(m.name)"
      ]
    },
    {
      "cell_type": "code",
      "execution_count": null,
      "metadata": {
        "id": "BDTNjUzaD0ni"
      },
      "outputs": [],
      "source": [
        "model = genai.GenerativeModel('gemini-pro')"
      ]
    },
    {
      "cell_type": "code",
      "execution_count": null,
      "metadata": {
        "id": "CEQ4RTAkD3M3"
      },
      "outputs": [],
      "source": [
        "%%time\n",
        "response = model.generate_content(\"What is the meaning of life?\")"
      ]
    },
    {
      "cell_type": "code",
      "execution_count": null,
      "metadata": {
        "colab": {
          "base_uri": "https://localhost:8080/",
          "height": 463
        },
        "id": "IUQsytqVD6ll",
        "outputId": "644374f0-87c1-4c96-8088-255d0bd5ee12"
      },
      "outputs": [
        {
          "data": {
            "text/markdown": "> The meaning of life is a complex and multifaceted question that has been pondered by philosophers, religious leaders, and ordinary individuals throughout history. There is no one definitive answer that is universally accepted, as the meaning of life can vary greatly depending on one's personal beliefs, values, and experiences. However, some common themes that emerge when discussing the meaning of life include:\n> \n> * **Purpose and Fulfillment:** Many people find meaning in life by pursuing their passions, making a positive impact on the world, or simply living a life that is true to their values. A sense of purpose can provide direction and motivation, and can help individuals feel connected to something larger than themselves.\n> \n> * **Relationships and Connections:** Strong relationships with family, friends, and loved ones are often seen as a key source of meaning and happiness. These connections provide a sense of belonging, support, and love, and can help individuals feel valued and appreciated.\n> \n> * **Personal Growth and Development:** The journey of personal growth and development can be a deeply meaningful experience. By challenging themselves, learning new things, and expanding their horizons, individuals can discover their potential and achieve a greater sense of self-awareness and fulfillment.\n> \n> * **Contribution to Society:** Many people find meaning in life by making a positive contribution to their community or the world at large. This can involve volunteering, working in a helping profession, or simply being a kind and compassionate person who makes a difference in the lives of others.\n> \n> * **Spiritual Connection:** For some people, the meaning of life is found through a connection to something larger than themselves, such as a higher power, nature, or the universe. This connection can provide a sense of peace, purpose, and belonging, and can help individuals navigate the challenges of life.\n> \n> Ultimately, the meaning of life is a personal and subjective matter. There is no right or wrong answer, and the meaning that one individual finds may be vastly different from what another finds. The key is to explore different possibilities, reflect on what truly matters to you, and live a life that is aligned with your values and beliefs.",
            "text/plain": [
              "<IPython.core.display.Markdown object>"
            ]
          },
          "execution_count": 8,
          "metadata": {},
          "output_type": "execute_result"
        }
      ],
      "source": [
        "to_markdown(response.text)"
      ]
    },
    {
      "cell_type": "code",
      "execution_count": null,
      "metadata": {
        "colab": {
          "base_uri": "https://localhost:8080/",
          "height": 131
        },
        "id": "KmKeaSyBh8F6",
        "outputId": "b4c1f452-415d-4f41-ed6b-ec931689387b"
      },
      "outputs": [
        {
          "data": {
            "application/vnd.google.colaboratory.intrinsic+json": {
              "type": "string"
            },
            "text/plain": [
              "'\\nOAI - generate / embedding\\nJinja2 prompt\\nAlgorithms :\\n  Inputs\\n  Functions\\n  Outputs\\n  Iterate\\n\\nnodes:\\n  Requirement Gathering Node\\n    Functional requirements ---+\\n    Non-functional requirements ---+\\n    /** User stories coming soon **/\\n\\n  Design Node\\n    Architecture Design\\n    /** UI/UX Design coming soon **/\\n    Database schema design\\n\\n  Code Generation Node\\n    Function Method Implementation\\n    Class/Module Implementation\\n    Algorithm Logic Implementation\\n\\n  Application Development\\n    Frontend Development\\n    Backend Development\\n    Database Intergration\\n\\n  Code Review\\n    Code Quality\\n    Bug Identification\\n    Refactoring\\n\\n  Testing\\n    Unit testing\\n    Intergration Testing\\n    Regression testing\\n\\n  Documentation Node:\\n    User Manual\\n    Api Documentation\\n    Technical specification\\n\\n  Deployment\\n    Configuration\\n    Server setup\\n    User Acceptance Testing\\n\\n  Monitoring and Maintenance\\n    Configure monitoring params\\n    handle error logs\\n    perform maintenance tasks\\n\\n  Feedback and Iteration\\n    Gather feedback\\n    Analyze user suggestions\\n    Improve iteratively\\n\\n  Version control\\n    branching\\n    merging\\n    resolve conflicts\\n\\n\\n'"
            ]
          },
          "execution_count": 9,
          "metadata": {},
          "output_type": "execute_result"
        }
      ],
      "source": [
        "\"\"\"\n",
        "OAI - generate / embedding\n",
        "Jinja2 prompt\n",
        "Algorithms :\n",
        "  Inputs\n",
        "  Functions\n",
        "  Outputs\n",
        "  Iterate\n",
        "\n",
        "nodes:\n",
        "  Requirement Gathering Node\n",
        "    Functional requirements ---+\n",
        "    Non-functional requirements ---+\n",
        "    /** User stories coming soon **/\n",
        "\n",
        "  Design Node\n",
        "    Architecture Design ---+\n",
        "    /** UI/UX Design coming soon **/\n",
        "    Database schema design ---+\n",
        "\n",
        "  Code Generation Node\n",
        "    Function Method Implementation\n",
        "    Class/Module Implementation\n",
        "    Algorithm Logic Implementation\n",
        "\n",
        "  Application Development\n",
        "    Frontend Development\n",
        "    Backend Development\n",
        "    Database Intergration\n",
        "\n",
        "  Code Review\n",
        "    Code Quality\n",
        "    Bug Identification\n",
        "    Refactoring\n",
        "\n",
        "  Testing\n",
        "    Unit testing\n",
        "    Intergration Testing\n",
        "    Regression testing\n",
        "\n",
        "  Documentation Node:\n",
        "    User Manual\n",
        "    Api Documentation\n",
        "    Technical specification\n",
        "\n",
        "  Deployment\n",
        "    Configuration\n",
        "    Server setup\n",
        "    User Acceptance Testing\n",
        "\n",
        "  Monitoring and Maintenance\n",
        "    Configure monitoring params\n",
        "    handle error logs\n",
        "    perform maintenance tasks\n",
        "\n",
        "  Feedback and Iteration\n",
        "    Gather feedback\n",
        "    Analyze user suggestions\n",
        "    Improve iteratively\n",
        "\n",
        "  Version control\n",
        "    branching\n",
        "    merging\n",
        "    resolve conflicts\n",
        "\n",
        "\n",
        "\"\"\""
      ]
    },
    {
      "cell_type": "markdown",
      "metadata": {
        "id": "CYbWQZ56oSnZ"
      },
      "source": [
        "##OAI CONFIG"
      ]
    },
    {
      "cell_type": "code",
      "execution_count": null,
      "metadata": {
        "colab": {
          "base_uri": "https://localhost:8080/"
        },
        "id": "xoDfij7uoPE6",
        "outputId": "47e3c5ef-aa4b-4f96-c246-29e34f5e1d98"
      },
      "outputs": [
        {
          "name": "stdout",
          "output_type": "stream",
          "text": [
            "Writing .env\n"
          ]
        }
      ],
      "source": [
        "%%writefile .env\n",
        "OPENAI_API_TYPE=azure\n",
        "OPENAI_API_BASE=<your_AOAI_endpoint>\n",
        "OPENAI_API_KEY=<your_AOAI_key>\n",
        "OPENAI_API_VERSION=2023-05-15\n",
        "EMBEDDING_MODEL_DEPLOYMENT_NAME=text-embedding-ada-002\n",
        "CHAT_MODEL_DEPLOYMENT_NAME=gpt-4\n",
        "PROMPT_TOKEN_LIMIT=2000\n",
        "MAX_COMPLETION_TOKENS=1024\n",
        "CHUNK_SIZE=256\n",
        "CHUNK_OVERLAP=16\n",
        "VERBOSE=True\n"
      ]
    },
    {
      "cell_type": "code",
      "execution_count": null,
      "metadata": {
        "colab": {
          "base_uri": "https://localhost:8080/"
        },
        "id": "SFQUudH3owGi",
        "outputId": "c0f15d62-5256-47cc-f51e-c928423ca3a3"
      },
      "outputs": [
        {
          "data": {
            "text/plain": [
              "True"
            ]
          },
          "execution_count": 12,
          "metadata": {},
          "output_type": "execute_result"
        }
      ],
      "source": [
        "from dotenv import load_dotenv\n",
        "\n",
        "# Load environment variables from .env file\n",
        "load_dotenv()\n"
      ]
    },
    {
      "cell_type": "code",
      "execution_count": null,
      "metadata": {
        "id": "V_4EU1b9o02b"
      },
      "outputs": [],
      "source": [
        "import os\n",
        "import sys\n",
        "from typing import Union\n",
        "from promptflow.tools.common import render_jinja_template\n",
        "from promptflow import tool\n",
        "import sys\n",
        "sys.path.append('.')\n",
        "# from oai import OAIChat\n"
      ]
    },
    {
      "cell_type": "markdown",
      "metadata": {
        "id": "hx1H6KbPq0G0"
      },
      "source": [
        "####Content Generator"
      ]
    },
    {
      "cell_type": "code",
      "execution_count": null,
      "metadata": {
        "id": "xKyu87ZHo2cy"
      },
      "outputs": [],
      "source": [
        "def generate(prompt: str):\n",
        "    \"\"\"\n",
        "    Generates algorithm based on the provided prompt.\n",
        "    \"\"\"\n",
        "    try:\n",
        "        max_completion_tokens = int(os.environ.get(\"MAX_COMPLETION_TOKENS\"))\n",
        "    except (ValueError, TypeError):\n",
        "        print(\"Error: MAX_COMPLETION_TOKENS environment variable is not set or is invalid.\")\n",
        "        return None\n",
        "\n",
        "    try:\n",
        "        model = genai.GenerativeModel('gemini-pro')\n",
        "        response = model.generate_content(prompt)\n",
        "        return response\n",
        "    except Exception as e:\n",
        "        print(f\"An error occurred during generation: {e}\")\n",
        "        return None"
      ]
    },
    {
      "cell_type": "markdown",
      "metadata": {
        "id": "gtetT9oGq-Ib"
      },
      "source": [
        "## Requirements Gathering"
      ]
    },
    {
      "cell_type": "markdown",
      "metadata": {
        "id": "-_kHRXn5rBq9"
      },
      "source": [
        "#### Functional Requirements"
      ]
    },
    {
      "cell_type": "code",
      "execution_count": null,
      "metadata": {
        "id": "UzJqQmTAqohe"
      },
      "outputs": [],
      "source": [
        "def add_task(task_dict):\n",
        "    # Take user input for task and description\n",
        "    task = input(\"Please enter your task: \")\n",
        "    task_description = input(\"Please input your task description: \")\n",
        "\n",
        "    # Create a dictionary with keys \"task\" and \"task_description\"\n",
        "    task_dict[\"task\"] = task\n",
        "    task_dict[\"task_description\"] = task_description\n",
        "\n",
        "    # Return the updated dictionary\n",
        "    return task_dict\n",
        "\n",
        "# # Define an empty dictionary to store tasks and descriptions\n",
        "# task_details = {\"fresh\": \"details\"}\n",
        "\n",
        "# # Call the function to add tasks\n",
        "# add_task(task_details)\n",
        "\n",
        "# # Print the updated dictionary\n",
        "# print(task_details)\n",
        "\n",
        "\n"
      ]
    },
    {
      "cell_type": "markdown",
      "metadata": {
        "id": "ph9PPrdptfZW"
      },
      "source": [
        "#### Parse the prompt"
      ]
    },
    {
      "cell_type": "code",
      "execution_count": null,
      "metadata": {
        "id": "EBRDHd_Grpq1"
      },
      "outputs": [],
      "source": [
        "def functions_prompt(product_description):\n",
        "    \"\"\"\n",
        "    Generates a prompt for a specific function using a Jinja2 template.\n",
        "    \"\"\"\n",
        "    from promptflow.tools.common import render_jinja_template\n",
        "\n",
        "    with open('requirements.jinja2') as file:\n",
        "        return render_jinja_template(prompt=file.read(), product_description=product_description)"
      ]
    },
    {
      "cell_type": "markdown",
      "metadata": {
        "id": "VkuNpHzltiJS"
      },
      "source": [
        "#### Generate functional requirements"
      ]
    },
    {
      "cell_type": "code",
      "execution_count": null,
      "metadata": {
        "id": "vhdbpayCtX1L"
      },
      "outputs": [],
      "source": [
        "def functional_requirements(prompt):\n",
        "  try:\n",
        "    requirements = generate(prompt)\n",
        "    return requirements\n",
        "\n",
        "  except Exception as e:\n",
        "    print(f\"An error occurred: {e}\")\n",
        "    return None\n"
      ]
    },
    {
      "cell_type": "markdown",
      "metadata": {
        "id": "Jji22SdnueIX"
      },
      "source": [
        "#### Test"
      ]
    },
    {
      "cell_type": "code",
      "execution_count": null,
      "metadata": {
        "id": "B3M7izxRucpW"
      },
      "outputs": [],
      "source": [
        "def functional_reqs_test():\n",
        "  # add task\n",
        "  task_details = {}\n",
        "  task_details = add_task(task_details)\n",
        "  if \"task\" in task_details:\n",
        "    task_description = task_details[\"task_description\"]\n",
        "    print(\"Description for task 'task':\", task_description)\n",
        "  else:\n",
        "      print(\"Task not found in task_details.\")\n",
        "\n",
        "\n",
        "  # parse prompt\n",
        "  prompt = functions_prompt(task_description)\n",
        "  print(prompt)\n",
        "  requirements = functional_requirements(prompt)\n",
        "\n",
        "  return requirements\n",
        "\n"
      ]
    },
    {
      "cell_type": "code",
      "execution_count": null,
      "metadata": {
        "colab": {
          "base_uri": "https://localhost:8080/"
        },
        "id": "Rez9_ct3yYPg",
        "outputId": "dc497bad-e5d5-42e0-8458-cfa162fa4004"
      },
      "outputs": [
        {
          "name": "stdout",
          "output_type": "stream",
          "text": [
            "{\n",
            "    \"1\": \"As a user, I want to be able to create tasks, specifying their title and description.\",\n",
            "    \"2\": \"As a user, I want to be able to view a list of my tasks, filtered by their status (completed or incomplete).\",\n",
            "    \"3\": \"As a user, I want to be able to mark tasks as completed or incomplete.\",\n",
            "    \"4\": \"As a user, I want to be able to delete tasks.\",\n",
            "    \"5\": \"As a user, I want to be able to edit the title and description of tasks.\",\n",
            "    \"6\": \"As a user, I want to be able to set deadlines for tasks.\",\n",
            "    \"7\": \"As a user, I want to be able to receive notifications when tasks are nearing their deadlines.\",\n",
            "    \"8\": \"As a user, I want to be able to assign tasks to other users.\",\n",
            "    \"9\": \"As a user, I want to be able to collaborate with other users on tasks, leaving comments and sharing files.\",\n",
            "    \"10\": \"As a user, I want to be able to prioritize tasks by assigning them different levels of importance.\",\n",
            "    \"11\": \"As a user, I want to be able to create subtasks within tasks, breaking them down into smaller steps.\",\n",
            "    \"12\": \"As a user, I want to be able to track the time spent on tasks, using a built-in timer.\",\n",
            "    \"13\": \"As a user, I want to be able to generate reports on my task progress, filtered by date range or task status.\",\n",
            "    \"14\": \"As a user, I want to be able to access the application from multiple devices, including smartphones and laptops.\",\n",
            "    \"15\": \"As a user, I want to be able to sync my tasks across multiple devices using cloud storage.\",\n",
            "    \"16\": \"As a user, I want to be able to have multiple users access the same task list, allowing for collaboration and task delegation.\",\n",
            "    \"17\": \"As a user, I want to be able to set reminders for tasks, ensuring they don't slip through the cracks.\",\n",
            "    \"18\": \"As a user, I want to be able to customize the user interface to suit my preferences, such as changing the color theme or font size.\",\n",
            "    \"19\": \"As a user, I want the application to be secure, with strong encryption measures to protect my data from unauthorized access.\",\n",
            "    \"20\": \"As a user, I want the application to be user-friendly and intuitive, with a clear and simple user interface that makes it easy to manage tasks.\"\n",
            "}\n"
          ]
        }
      ],
      "source": [
        "requirements = functional_reqs_test()\n",
        "print(requirements.text)"
      ]
    },
    {
      "cell_type": "markdown",
      "metadata": {
        "id": "PmJ2MoZNwYb_"
      },
      "source": [
        "### Non functional requirements"
      ]
    },
    {
      "cell_type": "code",
      "execution_count": null,
      "metadata": {
        "id": "gDKu2cPQzkxm"
      },
      "outputs": [],
      "source": [
        "non_functional_requirements = {\n",
        "    \"Performance\": {\n",
        "        \"Details\": [\n",
        "            \"The system should respond to user requests within 2 seconds.\",\n",
        "            \"The system should support a minimum of 1000 concurrent users without degradation in performance.\"\n",
        "        ]\n",
        "    },\n",
        "    \"Scalability\": {\n",
        "        \"Details\": [\n",
        "            \"The system should be able to handle a 50% increase in user traffic during peak hours.\",\n",
        "            \"The system should scale horizontally to accommodate future growth without significant changes to the architecture.\"\n",
        "        ]\n",
        "    },\n",
        "    \"Reliability\": {\n",
        "        \"Details\": [\n",
        "            \"The system should have an uptime of at least 99.9%.\",\n",
        "            \"The system should be resilient to hardware failures and recover gracefully without data loss.\"\n",
        "        ]\n",
        "    },\n",
        "    \"Availability\": {\n",
        "        \"Details\": [\n",
        "            \"The system should be available 24/7 except during scheduled maintenance windows.\",\n",
        "            \"The system should have a failover mechanism in place to ensure uninterrupted service in case of server failures.\"\n",
        "        ]\n",
        "    },\n",
        "    \"Security\": {\n",
        "        \"Details\": [\n",
        "            \"User authentication should use strong encryption and secure protocols (e.g., HTTPS).\",\n",
        "            \"The system should enforce role-based access control (RBAC) to restrict access to sensitive data.\"\n",
        "        ]\n",
        "    },\n",
        "    \"Usability\": {\n",
        "        \"Details\": [\n",
        "            \"The user interface should be intuitive and easy to navigate, requiring minimal training for end users.\",\n",
        "            \"The system should comply with accessibility standards (e.g., WCAG) to ensure usability for users with disabilities.\"\n",
        "        ]\n",
        "    },\n",
        "    \"Maintainability\": {\n",
        "        \"Details\": [\n",
        "            \"The system should be modular and well-documented to facilitate future enhancements and modifications.\",\n",
        "            \"Code changes should follow coding standards and be peer-reviewed to maintain code quality.\"\n",
        "        ]\n",
        "    },\n",
        "    \"Compatibility\": {\n",
        "        \"Details\": [\n",
        "            \"The system should be compatible with multiple web browsers (e.g., Chrome, Firefox, Safari) and devices (e.g., desktop, mobile).\",\n",
        "            \"The system should integrate seamlessly with third-party services and APIs.\"\n",
        "        ]\n",
        "    },\n",
        "    \"Performance Efficiency\": {\n",
        "        \"Details\": [\n",
        "            \"The system should optimize resource utilization to minimize costs (e.g., CPU usage, memory usage).\",\n",
        "            \"The system should use caching mechanisms to improve response times and reduce server load.\"\n",
        "        ]\n",
        "    },\n",
        "    \"Regulatory Compliance\": {\n",
        "        \"Details\": [\n",
        "            \"The system should comply with relevant industry regulations (e.g., GDPR, HIPAA) regarding data privacy and security.\",\n",
        "            \"The system should adhere to legal requirements for data retention and archival.\"\n",
        "        ]\n",
        "    },\n",
        "    \"Interoperability\": {\n",
        "        \"Details\": [\n",
        "            \"The system should be able to integrate seamlessly with external systems and APIs.\",\n",
        "            \"The system should support industry-standard data exchange formats (e.g., JSON, XML) for interoperability.\"\n",
        "        ]\n",
        "    },\n",
        "    \"Portability\": {\n",
        "        \"Details\": [\n",
        "            \"The system should be deployable across different operating systems (e.g., Windows, Linux, macOS).\",\n",
        "            \"The system should support deployment in various cloud environments (e.g., AWS, Azure, Google Cloud).\"\n",
        "        ]\n",
        "    },\n",
        "    \"Data Consistency\": {\n",
        "        \"Details\": [\n",
        "            \"The system should maintain data consistency across distributed components and databases.\",\n",
        "            \"Concurrent updates to the same data should be handled appropriately to prevent data corruption.\"\n",
        "        ]\n",
        "    },\n",
        "    \"Auditability\": {\n",
        "        \"Details\": [\n",
        "            \"The system should log all user activities and system events for auditing purposes.\",\n",
        "            \"Audit logs should be tamper-proof and accessible only to authorized personnel.\"\n",
        "        ]\n",
        "    },\n",
        "    \"Internationalization (I18n)\": {\n",
        "        \"Details\": [\n",
        "            \"The system should support multiple languages and locales to accommodate international users.\",\n",
        "            \"User interface elements should be designed to handle different character sets and text directions (e.g., left-to-right, right-to-left).\"\n",
        "        ]\n",
        "    },\n",
        "    \"Resilience\": {\n",
        "        \"Details\": [\n",
        "            \"The system should be resilient to network failures and intermittent connectivity issues.\",\n",
        "            \"The system should have mechanisms in place to recover from temporary failures without data loss or corruption.\"\n",
        "        ]\n",
        "    },\n",
        "    \"Capacity Planning\": {\n",
        "        \"Details\": [\n",
        "            \"The system should be designed to handle peak loads and seasonal spikes in user traffic.\",\n",
        "            \"Capacity planning should consider future growth projections and scalability requirements.\"\n",
        "        ]\n",
        "    },\n",
        "    \"Documentation\": {\n",
        "        \"Details\": [\n",
        "            \"The system should have comprehensive documentation covering installation, configuration, and usage instructions.\",\n",
        "            \"API documentation should be provided to facilitate integration with external systems and development by third-party developers.\"\n",
        "        ]\n",
        "    },\n",
        "    \"Compliance with Standards\": {\n",
        "        \"Details\": [\n",
        "            \"The system should adhere to industry standards and best practices (e.g., ISO/IEC 27001 for information security).\",\n",
        "            \"Development processes should follow established methodologies (e.g., Agile, Waterfall) to ensure consistency and quality.\"\n",
        "        ]\n",
        "    },\n",
        "    \"Error Handling\": {\n",
        "        \"Details\": [\n",
        "            \"The system should provide meaningful error messages to users in case of failures or exceptions.\",\n",
        "            \"Error logs should be generated and monitored to identify and address recurring issues proactively.\"\n",
        "        ]\n",
        "    },\n",
        "    \"Backup and Recovery\": {\n",
        "        \"Details\": [\n",
        "            \"The system should support regular backups of data to prevent data loss in case of system failures.\",\n",
        "            \"Backup procedures should be automated and include off-site storage for disaster recovery purposes.\"\n",
        "        ]\n",
        "    },\n",
        "    \"Logging and Monitoring\": {\n",
        "        \"Details\": [\n",
        "            \"The system should log relevant events and activities for monitoring and troubleshooting purposes.\",\n",
        "            \"Monitoring tools should be integrated to track system performance metrics (e.g., CPU usage, memory usage) in real-time.\"\n",
        "        ]\n",
        "    },\n",
        "    \"Performance Tuning\": {\n",
        "        \"Details\": [\n",
        "            \"The system should be optimized for efficient resource utilization to ensure optimal performance.\",\n",
        "            \"Performance tuning should be performed periodically to identify and address bottlenecks.\"\n",
        "        ]\n",
        "    },\n",
        "    \"Data Privacy\": {\n",
        "        \"Details\": [\n",
        "            \"The system should ensure the privacy and confidentiality of user data by encrypting sensitive information.\",\n",
        "            \"Access to personal data should be restricted to authorized personnel only.\"\n",
        "        ]\n",
        "    },\n",
        "    \"Regulatory Compliance\": {\n",
        "        \"Details\": [\n",
        "            \"The system should comply with industry-specific regulations and standards (e.g., PCI DSS for payment processing).\",\n",
        "            \"Compliance certifications should be obtained and maintained as required by regulatory authorities.\"\n",
        "        ]\n",
        "    },\n",
        "    \"Environmental Considerations\": {\n",
        "        \"Details\": [\n",
        "            \"The system should minimize its environmental impact by optimizing energy consumption and resource usage.\",\n",
        "            \"Green computing practices should be adopted to reduce carbon footprint and promote sustainability.\"\n",
        "        ]\n",
        "    },\n",
        "    \"User Training and Support\": {\n",
        "        \"Details\": [\n",
        "            \"The system should provide user training materials and resources to facilitate user adoption.\",\n",
        "            \"Helpdesk support should be available to assist users with technical issues and inquiries.\"\n",
        "        ]\n",
        "    },\n",
        "    \"Disaster Recovery\": {\n",
        "        \"Details\": [\n",
        "            \"The system should have a disaster recovery plan in place to recover from catastrophic events (e.g., natural disasters, cyber attacks).\",\n",
        "            \"Recovery procedures should include data restoration and system reconfiguration to restore functionality.\"\n",
        "        ]\n",
        "    },\n",
        "    \"Accessibility\": {\n",
        "        \"Details\": [\n",
        "            \"The system should comply with accessibility standards (e.g., WCAG) to ensure usability for users with disabilities.\",\n",
        "            \"Support for assistive technologies (e.g., screen readers, keyboard navigation) should be provided.\"\n",
        "        ]\n",
        "    },\n",
        "    \"User Experience (UX) Metrics\": {\n",
        "        \"Details\": [\n",
        "            \"The system should track UX metrics such as user satisfaction, task completion rate, and error rate to measure usability.\",\n",
        "            \"Feedback mechanisms should be implemented to gather user feedback for continuous improvement.\"\n",
        "        ]\n",
        "    }\n",
        "}\n"
      ]
    },
    {
      "cell_type": "code",
      "execution_count": null,
      "metadata": {
        "colab": {
          "base_uri": "https://localhost:8080/"
        },
        "id": "2f4TL3bl2CKF",
        "outputId": "7a134c24-707f-4f20-d874-8b12ca338e6f"
      },
      "outputs": [
        {
          "name": "stdout",
          "output_type": "stream",
          "text": [
            "['Performance', 'Scalability', 'Reliability', 'Availability', 'Security', 'Usability', 'Maintainability', 'Compatibility', 'Performance Efficiency', 'Regulatory Compliance', 'Interoperability', 'Portability', 'Data Consistency', 'Auditability', 'Internationalization (I18n)', 'Resilience', 'Capacity Planning', 'Documentation', 'Compliance with Standards', 'Error Handling', 'Backup and Recovery', 'Logging and Monitoring', 'Performance Tuning', 'Data Privacy', 'Environmental Considerations', 'User Training and Support', 'Disaster Recovery', 'Accessibility', 'User Experience (UX) Metrics']\n"
          ]
        }
      ],
      "source": [
        "def get_requirement_names(requirements_dict):\n",
        "    requirement_names = []\n",
        "    for requirement_name in requirements_dict:\n",
        "        requirement_names.append(requirement_name)\n",
        "    return requirement_names\n",
        "\n",
        "# Usage example:\n",
        "requirement_names_list = get_requirement_names(non_functional_requirements)\n",
        "print(requirement_names_list)\n"
      ]
    },
    {
      "cell_type": "markdown",
      "metadata": {
        "id": "2mxxuGtj2eN1"
      },
      "source": [
        "## Design\n"
      ]
    },
    {
      "cell_type": "markdown",
      "metadata": {
        "id": "9PNezXNt4JEp"
      },
      "source": [
        "### Algorithms"
      ]
    },
    {
      "cell_type": "code",
      "execution_count": null,
      "metadata": {
        "id": "CdvpeNgX2Zbt"
      },
      "outputs": [],
      "source": [
        "# given the functional requirements keys : parse functional reqs\n",
        "\n",
        "# generate prompt\n",
        "def algo_prompt(function):\n",
        "    \"\"\"\n",
        "    Generates a prompt for a specific function using a Jinja2 template.\n",
        "    \"\"\"\n",
        "    from promptflow.tools.common import render_jinja_template\n",
        "\n",
        "    with open('algorithms.jinja2') as file:\n",
        "        return render_jinja_template(prompt=file.read(), function=function)\n",
        "\n",
        "\n",
        "# Generate content\n",
        "def get_algorithms(functions):\n",
        "    try:\n",
        "        algorithms = []\n",
        "        processed_functions = 0\n",
        "\n",
        "        for key, func in functions.items():\n",
        "            try:\n",
        "                prompt = algo_prompt(func)\n",
        "                algorithm = generate(prompt)\n",
        "\n",
        "                algorithms.append(algorithm.text)\n",
        "                processed_functions += 1\n",
        "                print(processed_functions)\n",
        "\n",
        "                if processed_functions == 4:\n",
        "                    break\n",
        "            except Exception as e:\n",
        "                print(f\"Error processing algorithm {func}: {e}\")\n",
        "        return algorithms\n",
        "\n",
        "    except Exception as e:\n",
        "        print(f\"An error occurred: {e}\")\n",
        "        return None\n",
        "\n"
      ]
    },
    {
      "cell_type": "markdown",
      "metadata": {
        "id": "6F3T4wMt2G4o"
      },
      "source": [
        "#### my key: SAMAIzaSyBpGTci77tIs_SIUP-618cCbpg2JwYJ-TkSAM"
      ]
    },
    {
      "cell_type": "markdown",
      "metadata": {
        "id": "zBHVN9VH66Sz"
      },
      "source": [
        "#### Test algorithms gen"
      ]
    },
    {
      "cell_type": "code",
      "execution_count": null,
      "metadata": {
        "id": "QlLzm4WJLbxH"
      },
      "outputs": [],
      "source": [
        "import json\n",
        "functions = json.loads(requirements.text)\n",
        "\n",
        "algorithms = get_algorithms(functions)"
      ]
    },
    {
      "cell_type": "code",
      "execution_count": null,
      "metadata": {
        "colab": {
          "base_uri": "https://localhost:8080/"
        },
        "id": "EDUkDw3D7E9Q",
        "outputId": "3052cb36-bfda-45d4-87f7-0824a8ed9450"
      },
      "outputs": [
        {
          "name": "stdout",
          "output_type": "stream",
          "text": [
            "{\n",
            "  \"algorithmName\": \"CreateTask\",\n",
            "  \"algorithm\": {\n",
            "    \"Input\": \"task_title (string), task_description (string)\",\n",
            "    \"Output\": \"New task created (store in a database or list)\",\n",
            "    \"Steps\": [\n",
            "      {\n",
            "        \"Step\": \"Start\"\n",
            "      },\n",
            "      {\n",
            "        \"Step\": \"Check if task_title and task_description are not empty:\",\n",
            "        \"Action\": \"Create a new task with the provided title and description\"\n",
            "      },\n",
            "      {\n",
            "        \"Step\": \"Else:\",\n",
            "        \"Action\": \"Print 'Task title or description not provided.'\"\n",
            "      },\n",
            "      {\n",
            "        \"Step\": \"End\"\n",
            "      }\n",
            "    ]\n",
            "  }\n",
            "}\n",
            "%%%%%%%%%%%%%%%%\n",
            "{\n",
            "  \"algorithmName\": \"FilterTasksByStatus\",\n",
            "  \"algorithm\": {\n",
            "    \"Input\": [\n",
            "      \"tasks (Array of Task objects)\", \n",
            "      \"status (string)\", // \"completed\" or \"incomplete\"\n",
            "    ],\n",
            "    \"Output\": \"filteredTasks (Array of Task objects)\",\n",
            "    \"Steps\": [\n",
            "      {\n",
            "        \"Step\": \"Initialize filteredTasks to an empty array\"\n",
            "      },\n",
            "      {\n",
            "        \"Step\": \"For each task in tasks:\",\n",
            "        \"Action\": \"If task.status equals status, add task to filteredTasks\"\n",
            "      },\n",
            "      {\n",
            "        \"Step\": \"Return filteredTasks\"\n",
            "      }\n",
            "    ]\n",
            "  }\n",
            "}\n",
            "%%%%%%%%%%%%%%%%\n",
            "{\n",
            "  \"algorithmName\": \"MarkTaskCompleteOrIncomplete\",\n",
            "  \"algorithm\": {\n",
            "    \"Input\": \"task_id (int), status (string)\",\n",
            "    \"Output\": \"None (task updated with specified status)\",\n",
            "    \"Steps\": [\n",
            "      {\n",
            "        \"Step\": \"Start\"\n",
            "      },\n",
            "      {\n",
            "        \"Step\": \"Check if task_id is valid:\",\n",
            "        \"Action\": \"If task_id does not exist, return an error.\"\n",
            "      },\n",
            "      {\n",
            "        \"Step\": \"Check if status is valid:\",\n",
            "        \"Action\": \"If status is not 'complete' or 'incomplete', return an error.\"\n",
            "      },\n",
            "      {\n",
            "        \"Step\": \"Update the task's status in the database:\",\n",
            "        \"Action\": \"Set the status of the task with the specified task_id to the specified status.\"\n",
            "      },\n",
            "      {\n",
            "        \"Step\": \"End\"\n",
            "      }\n",
            "    ]\n",
            "  }\n",
            "}\n",
            "%%%%%%%%%%%%%%%%\n",
            "{\n",
            "  \"algorithmName\": \"DeleteTask\",\n",
            "  \"algorithm\": {\n",
            "    \"Input\": \"task_id (int)\",\n",
            "    \"Output\": \"None (delete task with task_id)\",\n",
            "    \"Steps\": [\n",
            "      {\n",
            "        \"Step\": \"Start\"\n",
            "      },\n",
            "      {\n",
            "        \"Step\": \"Check if task_id is not empty:\",\n",
            "        \"Action\": \"Get task by task_id\"\n",
            "      },\n",
            "      {\n",
            "        \"Step\": \"If task not found:\",\n",
            "        \"Action\": \"Print 'Task not found.'\"\n",
            "      },\n",
            "      {\n",
            "        \"Step\": \"Else:\",\n",
            "        \"Action\": \"Delete task with task_id\"\n",
            "      },\n",
            "      {\n",
            "        \"Step\": \"End\"\n",
            "      }\n",
            "    ]\n",
            "  }\n",
            "}\n",
            "%%%%%%%%%%%%%%%%\n"
          ]
        }
      ],
      "source": [
        "for i in algorithms:\n",
        "  print(i)\n",
        "  print(\"%%%%%%%%%%%%%%%%\")"
      ]
    },
    {
      "cell_type": "markdown",
      "metadata": {
        "id": "JeA5rNbo0RM4"
      },
      "source": [
        "### Database Schema"
      ]
    },
    {
      "cell_type": "code",
      "execution_count": null,
      "metadata": {
        "id": "7phBygTL7HzV"
      },
      "outputs": [],
      "source": [
        "def schema_prompt(description):\n",
        "  \"\"\"\n",
        "  Generates a prompt for a specific function using a Jinja2 template.\n",
        "  \"\"\"\n",
        "  from promptflow.tools.common import render_jinja_template\n",
        "\n",
        "  with open('schema.jinja2') as file:\n",
        "      return render_jinja_template(prompt=file.read(), description=description)\n",
        "\n",
        "def gen_schema(description):\n",
        "  try:\n",
        "    prompt = schema_prompt(description)\n",
        "    # print(description)\n",
        "    schema = generate(prompt).text\n",
        "    return schema\n",
        "\n",
        "  except Exception as e:\n",
        "    print(f\"An error occurred: {e}\")\n",
        "    return None\n"
      ]
    },
    {
      "cell_type": "markdown",
      "metadata": {
        "id": "UOdT2JNm6_Ee"
      },
      "source": [
        "#### Test schema"
      ]
    },
    {
      "cell_type": "code",
      "execution_count": null,
      "metadata": {
        "id": "fIxlM2MZ66Zq"
      },
      "outputs": [],
      "source": [
        "description = add_task({})\n",
        "schema = gen_schema(description)\n",
        "print(schema)"
      ]
    },
    {
      "cell_type": "code",
      "execution_count": null,
      "metadata": {
        "id": "M-cgDfaK-xLA"
      },
      "outputs": [],
      "source": [
        "print(schema)"
      ]
    },
    {
      "cell_type": "markdown",
      "metadata": {
        "id": "j9xntKXs8O2h"
      },
      "source": [
        "## Code Generation"
      ]
    },
    {
      "cell_type": "code",
      "execution_count": null,
      "metadata": {
        "id": "cJUgOfNW7Thi"
      },
      "outputs": [],
      "source": [
        "# get algorithms and generate code for each\n",
        "# generate sample inputs\n",
        "# generate unit tests\n",
        "def function_prompt(descritpion, algorithm):\n",
        "  \"\"\"\n",
        "  Generates a prompt for a specific function using a Jinja2 template.\n",
        "  \"\"\"\n",
        "  from promptflow.tools.common import render_jinja_template\n",
        "\n",
        "  with open('functions.jinja2') as file:\n",
        "      return render_jinja_template(prompt=file.read(), algorithm=algorithm)\n",
        "\n",
        "def gen_functions(description, algorithms):\n",
        "  try:\n",
        "    codes = []\n",
        "    processed_algos = 0\n",
        "\n",
        "    for algo in algorithms:\n",
        "      prompt = function_prompt(description, algo)\n",
        "      code = generate(prompt)\n",
        "\n",
        "      codes.append(code)\n",
        "      processed_algos += 1\n",
        "\n",
        "    return code\n",
        "\n",
        "  except Exception as e:\n",
        "    print(f\"An error occurred: {e}\")\n",
        "    return None"
      ]
    },
    {
      "cell_type": "code",
      "execution_count": 84,
      "metadata": {
        "colab": {
          "base_uri": "https://localhost:8080/"
        },
        "id": "gW3rk1r8ALa0",
        "outputId": "ac2c4b3c-a174-4afe-bf82-2d0b5268e789"
      },
      "outputs": [
        {
          "output_type": "stream",
          "name": "stdout",
          "text": [
            "An error occurred during generation: HTTPConnectionPool(host='localhost', port=46441): Read timed out. (read timeout=60.0)\n",
            "1\n",
            "An error occurred during generation: HTTPConnectionPool(host='localhost', port=46441): Read timed out. (read timeout=60.0)\n",
            "2\n",
            "An error occurred during generation: HTTPConnectionPool(host='localhost', port=46441): Read timed out. (read timeout=60.0)\n",
            "3\n",
            "An error occurred during generation: HTTPConnectionPool(host='localhost', port=46441): Read timed out. (read timeout=60.0)\n",
            "4\n",
            "[None, None, None, None]\n"
          ]
        }
      ],
      "source": [
        "codes = gen_functions(description, algorithms)\n",
        "print(codes)"
      ]
    },
    {
      "cell_type": "code",
      "execution_count": null,
      "metadata": {
        "id": "ZEfuJAsqCO6C"
      },
      "outputs": [],
      "source": []
    }
  ],
  "metadata": {
    "colab": {
      "provenance": [],
      "authorship_tag": "ABX9TyPJK7g31V4sewiLGcUbQxsd",
      "include_colab_link": true
    },
    "kernelspec": {
      "display_name": "Python 3",
      "name": "python3"
    },
    "language_info": {
      "name": "python"
    }
  },
  "nbformat": 4,
  "nbformat_minor": 0
}
