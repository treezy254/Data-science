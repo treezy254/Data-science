{
  "nbformat": 4,
  "nbformat_minor": 0,
  "metadata": {
    "colab": {
      "provenance": [],
      "authorship_tag": "ABX9TyPTyG2wosZgC1bdHOdyWhdP",
      "include_colab_link": true
    },
    "kernelspec": {
      "name": "python3",
      "display_name": "Python 3"
    },
    "language_info": {
      "name": "python"
    }
  },
  "cells": [
    {
      "cell_type": "markdown",
      "metadata": {
        "id": "view-in-github",
        "colab_type": "text"
      },
      "source": [
        "<a href=\"https://colab.research.google.com/github/treezy254/Data-science/blob/main/Json_parser.ipynb\" target=\"_parent\"><img src=\"https://colab.research.google.com/assets/colab-badge.svg\" alt=\"Open In Colab\"/></a>"
      ]
    },
    {
      "cell_type": "code",
      "source": [
        "import ast\n",
        "import json\n",
        "import re\n",
        "\n",
        "def infinite_loop_check(code_snippet):\n",
        "    tree = ast.parse(code_snippet)\n",
        "    for node in ast.walk(tree):\n",
        "        if isinstance(node, ast.While):\n",
        "            if not node.orelse:\n",
        "                return True\n",
        "    return False\n",
        "\n",
        "def syntax_error_check(code_snippet):\n",
        "    try:\n",
        "        ast.parse(code_snippet)\n",
        "    except SyntaxError:\n",
        "        return True\n",
        "    return False\n",
        "\n",
        "def error_fix(code_snippet):\n",
        "    tree = ast.parse(code_snippet)\n",
        "    for node in ast.walk(tree):\n",
        "        if isinstance(node, ast.While):\n",
        "            if not node.orelse:\n",
        "                node.orelse = [ast.Pass()]\n",
        "    return ast.unparse(tree)\n",
        "\n",
        "def extract_json_part(string):\n",
        "    pattern = r'\\{[^{}]*\\}'\n",
        "    matches = re.findall(pattern, string)\n",
        "    if matches:\n",
        "        return matches[0]\n",
        "    else:\n",
        "        return None\n",
        "\n",
        "def code_refine(original_code: str) -> str:\n",
        "    try:\n",
        "        json_part = extract_json_part(original_code)\n",
        "        if json_part:\n",
        "            original_code = json.loads(json_part)[\"code\"]\n",
        "        fixed_code = None\n",
        "\n",
        "        if infinite_loop_check(original_code):\n",
        "            fixed_code = error_fix(original_code)\n",
        "        else:\n",
        "            fixed_code = original_code\n",
        "\n",
        "        if syntax_error_check(fixed_code):\n",
        "            fixed_code = error_fix(fixed_code)\n",
        "\n",
        "        return fixed_code\n",
        "    except json.JSONDecodeError:\n",
        "        return \"JSONDecodeError\"\n",
        "    except Exception as e:\n",
        "        return \"Unknown Error:\" + str(e)\n",
        "\n",
        "if __name__ == \"__main__\":\n",
        "    code = \"\"\"{\n",
        "    \"code\": \"print(rectangle_length * rectangle_width)\"\n",
        "}\n",
        "\n",
        "Where `rectangle_length` and `rectangle_width` are variables that represent the length and width of the rectangle, respectively.\n",
        "\"\"\"\n",
        "    code_refined = code_refine(code)\n",
        "    print(code_refined)\n"
      ],
      "metadata": {
        "colab": {
          "base_uri": "https://localhost:8080/"
        },
        "id": "KXpyOZ80La75",
        "outputId": "37ce9cdf-3e46-4f99-b3d6-7f3eb5a4d517"
      },
      "execution_count": 20,
      "outputs": [
        {
          "output_type": "stream",
          "name": "stdout",
          "text": [
            "print(rectangle_length * rectangle_width)\n"
          ]
        }
      ]
    },
    {
      "cell_type": "code",
      "source": [
        "\"\"\"{\n",
        "    \"code\": \"print(rectangle_length * rectangle_width)\"\n",
        "}\n",
        "\n",
        "Where `rectangle_length` and `rectangle_width` are variables that represent the length and width of the rectangle, respectively.\"\"\""
      ],
      "metadata": {
        "id": "qytvJ8ICN789"
      },
      "execution_count": null,
      "outputs": []
    },
    {
      "cell_type": "code",
      "source": [
        "import re\n",
        "\n",
        "def extract_json_part(string):\n",
        "    # Regular expression pattern to match JSON-like structures\n",
        "    pattern = r'\\{[^{}]*\\}'\n",
        "\n",
        "    # Find all matches of the pattern in the string\n",
        "    matches = re.findall(pattern, string)\n",
        "\n",
        "    # If there are matches, return the first match (assuming only one JSON part)\n",
        "    if matches:\n",
        "        return matches[0]\n",
        "    else:\n",
        "        return None\n",
        "\n",
        "# Test the function\n",
        "input_string = '\"code\": \"{\\n    \\\\\"code\\\\\": \\\\\"print(rectangle_length * rectangle_width)\\\\\"\\n}\\n\\nWhere `rectangle_length` and `rectangle_width` are variables that represent the length and width of the rectangle, respectively.\"'\n",
        "json_part = extract_json_part(input_string)\n",
        "print(json_part)\n"
      ],
      "metadata": {
        "colab": {
          "base_uri": "https://localhost:8080/"
        },
        "id": "5XzOxdp6Lt5C",
        "outputId": "2389665b-3564-4f38-f3f9-3ed65c76b31c"
      },
      "execution_count": 19,
      "outputs": [
        {
          "output_type": "stream",
          "name": "stdout",
          "text": [
            "{\n",
            "    \\\"code\\\": \\\"print(rectangle_length * rectangle_width)\\\"\n",
            "}\n"
          ]
        }
      ]
    },
    {
      "cell_type": "code",
      "source": [],
      "metadata": {
        "id": "8oKCXOvSM2I_"
      },
      "execution_count": null,
      "outputs": []
    }
  ]
}